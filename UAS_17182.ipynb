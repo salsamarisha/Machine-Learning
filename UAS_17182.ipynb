{
 "cells": [
  {
   "cell_type": "markdown",
   "metadata": {},
   "source": [
    "# UAS Machine Learning 2019\n",
    "## Marisha Salsabila\n",
    "16/394091/PA/17182"
   ]
  },
  {
   "cell_type": "code",
   "execution_count": 140,
   "metadata": {},
   "outputs": [],
   "source": [
    "import pandas as pd\n",
    "\n",
    "data = pd.read_excel('labor.xls', encoding = 'ISO-8859-1')"
   ]
  },
  {
   "cell_type": "markdown",
   "metadata": {},
   "source": [
    "# 1. Soal dibawah ini dijawab mengunakan File labor.xls\n",
    "\n",
    "a) Buat summary dari atribut-atribut bertipe kontinyu dengan cara menampilkan nilai-nilai count, mean, max, min, std, dan kuartil"
   ]
  },
  {
   "cell_type": "code",
   "execution_count": 96,
   "metadata": {},
   "outputs": [
    {
     "data": {
      "text/html": [
       "<div>\n",
       "<style scoped>\n",
       "    .dataframe tbody tr th:only-of-type {\n",
       "        vertical-align: middle;\n",
       "    }\n",
       "\n",
       "    .dataframe tbody tr th {\n",
       "        vertical-align: top;\n",
       "    }\n",
       "\n",
       "    .dataframe thead th {\n",
       "        text-align: right;\n",
       "    }\n",
       "</style>\n",
       "<table border=\"1\" class=\"dataframe\">\n",
       "  <thead>\n",
       "    <tr style=\"text-align: right;\">\n",
       "      <th></th>\n",
       "      <th>duration</th>\n",
       "      <th>wage-increase-first-year</th>\n",
       "      <th>wage-increase-second-year</th>\n",
       "      <th>wage-increase-third-year</th>\n",
       "      <th>working-hours</th>\n",
       "      <th>standby-pay</th>\n",
       "      <th>shift-differential</th>\n",
       "      <th>statutory-holidays</th>\n",
       "    </tr>\n",
       "  </thead>\n",
       "  <tbody>\n",
       "    <tr>\n",
       "      <th>count</th>\n",
       "      <td>56.000000</td>\n",
       "      <td>56.000000</td>\n",
       "      <td>46.000000</td>\n",
       "      <td>15.000000</td>\n",
       "      <td>51.000000</td>\n",
       "      <td>9.000000</td>\n",
       "      <td>31.000000</td>\n",
       "      <td>53.000000</td>\n",
       "    </tr>\n",
       "    <tr>\n",
       "      <th>mean</th>\n",
       "      <td>2.160714</td>\n",
       "      <td>3.803571</td>\n",
       "      <td>3.971739</td>\n",
       "      <td>3.913333</td>\n",
       "      <td>38.039216</td>\n",
       "      <td>7.444444</td>\n",
       "      <td>4.870968</td>\n",
       "      <td>11.094340</td>\n",
       "    </tr>\n",
       "    <tr>\n",
       "      <th>std</th>\n",
       "      <td>0.707795</td>\n",
       "      <td>1.370596</td>\n",
       "      <td>1.164028</td>\n",
       "      <td>1.304315</td>\n",
       "      <td>2.505680</td>\n",
       "      <td>5.027701</td>\n",
       "      <td>4.544168</td>\n",
       "      <td>1.259795</td>\n",
       "    </tr>\n",
       "    <tr>\n",
       "      <th>min</th>\n",
       "      <td>1.000000</td>\n",
       "      <td>2.000000</td>\n",
       "      <td>2.000000</td>\n",
       "      <td>2.000000</td>\n",
       "      <td>27.000000</td>\n",
       "      <td>2.000000</td>\n",
       "      <td>0.000000</td>\n",
       "      <td>9.000000</td>\n",
       "    </tr>\n",
       "    <tr>\n",
       "      <th>25%</th>\n",
       "      <td>2.000000</td>\n",
       "      <td>2.500000</td>\n",
       "      <td>3.000000</td>\n",
       "      <td>2.400000</td>\n",
       "      <td>37.000000</td>\n",
       "      <td>2.000000</td>\n",
       "      <td>3.000000</td>\n",
       "      <td>10.000000</td>\n",
       "    </tr>\n",
       "    <tr>\n",
       "      <th>50%</th>\n",
       "      <td>2.000000</td>\n",
       "      <td>4.000000</td>\n",
       "      <td>4.000000</td>\n",
       "      <td>4.600000</td>\n",
       "      <td>38.000000</td>\n",
       "      <td>8.000000</td>\n",
       "      <td>4.000000</td>\n",
       "      <td>11.000000</td>\n",
       "    </tr>\n",
       "    <tr>\n",
       "      <th>75%</th>\n",
       "      <td>3.000000</td>\n",
       "      <td>4.500000</td>\n",
       "      <td>4.500000</td>\n",
       "      <td>5.000000</td>\n",
       "      <td>40.000000</td>\n",
       "      <td>12.000000</td>\n",
       "      <td>5.000000</td>\n",
       "      <td>12.000000</td>\n",
       "    </tr>\n",
       "    <tr>\n",
       "      <th>max</th>\n",
       "      <td>3.000000</td>\n",
       "      <td>7.000000</td>\n",
       "      <td>7.000000</td>\n",
       "      <td>5.100000</td>\n",
       "      <td>40.000000</td>\n",
       "      <td>14.000000</td>\n",
       "      <td>25.000000</td>\n",
       "      <td>15.000000</td>\n",
       "    </tr>\n",
       "  </tbody>\n",
       "</table>\n",
       "</div>"
      ],
      "text/plain": [
       "        duration  wage-increase-first-year  wage-increase-second-year  \\\n",
       "count  56.000000                 56.000000                  46.000000   \n",
       "mean    2.160714                  3.803571                   3.971739   \n",
       "std     0.707795                  1.370596                   1.164028   \n",
       "min     1.000000                  2.000000                   2.000000   \n",
       "25%     2.000000                  2.500000                   3.000000   \n",
       "50%     2.000000                  4.000000                   4.000000   \n",
       "75%     3.000000                  4.500000                   4.500000   \n",
       "max     3.000000                  7.000000                   7.000000   \n",
       "\n",
       "       wage-increase-third-year  working-hours  standby-pay  \\\n",
       "count                 15.000000      51.000000     9.000000   \n",
       "mean                   3.913333      38.039216     7.444444   \n",
       "std                    1.304315       2.505680     5.027701   \n",
       "min                    2.000000      27.000000     2.000000   \n",
       "25%                    2.400000      37.000000     2.000000   \n",
       "50%                    4.600000      38.000000     8.000000   \n",
       "75%                    5.000000      40.000000    12.000000   \n",
       "max                    5.100000      40.000000    14.000000   \n",
       "\n",
       "       shift-differential  statutory-holidays  \n",
       "count           31.000000           53.000000  \n",
       "mean             4.870968           11.094340  \n",
       "std              4.544168            1.259795  \n",
       "min              0.000000            9.000000  \n",
       "25%              3.000000           10.000000  \n",
       "50%              4.000000           11.000000  \n",
       "75%              5.000000           12.000000  \n",
       "max             25.000000           15.000000  "
      ]
     },
     "execution_count": 96,
     "metadata": {},
     "output_type": "execute_result"
    }
   ],
   "source": [
    "data.describe()"
   ]
  },
  {
   "cell_type": "markdown",
   "metadata": {},
   "source": [
    "b) Tampilikan jumlah missing value setiap atribut dan replace missing value"
   ]
  },
  {
   "cell_type": "code",
   "execution_count": 97,
   "metadata": {},
   "outputs": [
    {
     "data": {
      "text/plain": [
       "Index(['duration', 'wage-increase-first-year', 'wage-increase-second-year',\n",
       "       'wage-increase-third-year', 'cost-of-living-adjustment',\n",
       "       'working-hours', 'pension', 'standby-pay', 'shift-differential',\n",
       "       'education-allowance', 'statutory-holidays', 'vacation',\n",
       "       'longterm-disability-assistance', 'contribution-to-dental-plan',\n",
       "       'bereavement-assistance', 'contribution-to-health-plan', 'class'],\n",
       "      dtype='object')"
      ]
     },
     "execution_count": 97,
     "metadata": {},
     "output_type": "execute_result"
    }
   ],
   "source": [
    "data.columns"
   ]
  },
  {
   "cell_type": "code",
   "execution_count": 98,
   "metadata": {},
   "outputs": [
    {
     "name": "stdout",
     "output_type": "stream",
     "text": [
      "1\n",
      "1\n",
      "11\n",
      "42\n",
      "20\n",
      "6\n",
      "30\n",
      "48\n",
      "26\n",
      "35\n",
      "4\n",
      "6\n",
      "29\n",
      "20\n",
      "27\n",
      "20\n",
      "0\n"
     ]
    }
   ],
   "source": [
    "print(data.duration.isnull().sum())\n",
    "print(data['wage-increase-first-year'].isnull().sum())\n",
    "print(data['wage-increase-second-year'].isnull().sum())\n",
    "print(data['wage-increase-third-year'].isnull().sum())\n",
    "print(data['cost-of-living-adjustment'].isnull().sum())\n",
    "print(data['working-hours'].isnull().sum())\n",
    "print(data['pension'].isnull().sum())\n",
    "print(data['standby-pay'].isnull().sum())\n",
    "print(data['shift-differential'].isnull().sum())\n",
    "print(data['education-allowance'].isnull().sum())\n",
    "print(data['statutory-holidays'].isnull().sum())\n",
    "print(data['vacation'].isnull().sum())\n",
    "print(data['longterm-disability-assistance'].isnull().sum())\n",
    "print(data['contribution-to-dental-plan'].isnull().sum())\n",
    "print(data['bereavement-assistance'].isnull().sum())\n",
    "print(data['contribution-to-health-plan'].isnull().sum())\n",
    "print(data['class'].isnull().sum())"
   ]
  },
  {
   "cell_type": "code",
   "execution_count": null,
   "metadata": {},
   "outputs": [],
   "source": []
  },
  {
   "cell_type": "code",
   "execution_count": 99,
   "metadata": {},
   "outputs": [
    {
     "data": {
      "text/plain": [
       "2.0"
      ]
     },
     "execution_count": 99,
     "metadata": {},
     "output_type": "execute_result"
    }
   ],
   "source": [
    "data.duration.median()"
   ]
  },
  {
   "cell_type": "code",
   "execution_count": 100,
   "metadata": {},
   "outputs": [],
   "source": [
    "data = data.fillna(data.median())"
   ]
  },
  {
   "cell_type": "code",
   "execution_count": 101,
   "metadata": {},
   "outputs": [
    {
     "name": "stdout",
     "output_type": "stream",
     "text": [
      "0\n",
      "0\n",
      "0\n",
      "0\n",
      "20\n",
      "0\n",
      "30\n",
      "0\n",
      "0\n",
      "35\n",
      "0\n",
      "6\n",
      "29\n",
      "20\n",
      "27\n",
      "20\n",
      "0\n"
     ]
    }
   ],
   "source": [
    "print(data.duration.isnull().sum())\n",
    "print(data['wage-increase-first-year'].isnull().sum())\n",
    "print(data['wage-increase-second-year'].isnull().sum())\n",
    "print(data['wage-increase-third-year'].isnull().sum())\n",
    "print(data['cost-of-living-adjustment'].isnull().sum())\n",
    "print(data['working-hours'].isnull().sum())\n",
    "print(data['pension'].isnull().sum())\n",
    "print(data['standby-pay'].isnull().sum())\n",
    "print(data['shift-differential'].isnull().sum())\n",
    "print(data['education-allowance'].isnull().sum())\n",
    "print(data['statutory-holidays'].isnull().sum())\n",
    "print(data['vacation'].isnull().sum())\n",
    "print(data['longterm-disability-assistance'].isnull().sum())\n",
    "print(data['contribution-to-dental-plan'].isnull().sum())\n",
    "print(data['bereavement-assistance'].isnull().sum())\n",
    "print(data['contribution-to-health-plan'].isnull().sum())\n",
    "print(data['class'].isnull().sum())"
   ]
  },
  {
   "cell_type": "code",
   "execution_count": 52,
   "metadata": {},
   "outputs": [],
   "source": [
    "#untuk data kategorikal diganti dengan mean\n",
    "#ubah ke numerik dengan label encoding\n"
   ]
  },
  {
   "cell_type": "code",
   "execution_count": 102,
   "metadata": {},
   "outputs": [],
   "source": [
    "data['cost-of-living-adjustment'].value_counts()\n",
    "data['cost-of-living-adjustment'] = data['cost-of-living-adjustment'].fillna('none') "
   ]
  },
  {
   "cell_type": "code",
   "execution_count": 84,
   "metadata": {},
   "outputs": [
    {
     "data": {
      "text/plain": [
       "array([nan, 'tc', 'none', 'tcf'], dtype=object)"
      ]
     },
     "execution_count": 84,
     "metadata": {},
     "output_type": "execute_result"
    }
   ],
   "source": [
    "data['cost-of-living-adjustment'].unique()"
   ]
  },
  {
   "cell_type": "code",
   "execution_count": 103,
   "metadata": {},
   "outputs": [
    {
     "data": {
      "text/plain": [
       "array([0, 1, 2], dtype=int64)"
      ]
     },
     "execution_count": 103,
     "metadata": {},
     "output_type": "execute_result"
    }
   ],
   "source": [
    "# Import label encoder \n",
    "from sklearn import preprocessing \n",
    "\n",
    "# label_encoder object knows how to understand word labels. \n",
    "label_encoder = preprocessing.LabelEncoder() \n",
    "\n",
    "# Encode labels in column 'species'. \n",
    "data['cost-of-living-adjustment']= label_encoder.fit_transform(data['cost-of-living-adjustment']) \n",
    "\n",
    "data['cost-of-living-adjustment'].unique() \n"
   ]
  },
  {
   "cell_type": "code",
   "execution_count": 86,
   "metadata": {},
   "outputs": [
    {
     "data": {
      "text/plain": [
       "none    22\n",
       "tcf      8\n",
       "tc       7\n",
       "Name: cost-of-living-adjustment, dtype: int64"
      ]
     },
     "execution_count": 86,
     "metadata": {},
     "output_type": "execute_result"
    }
   ],
   "source": [
    "data['cost-of-living-adjustment'].value_counts()\n",
    "#data['cost-of-living-adjustment']= data['cost-of-living-adjustment'].fillna(mean1)\n"
   ]
  },
  {
   "cell_type": "code",
   "execution_count": 106,
   "metadata": {},
   "outputs": [],
   "source": [
    "data['pension'].value_counts()\n",
    "data['pension'] = data['pension'].fillna('none')\n",
    "\n",
    "data['pension']= label_encoder.fit_transform(data['pension']) \n"
   ]
  },
  {
   "cell_type": "code",
   "execution_count": 109,
   "metadata": {},
   "outputs": [],
   "source": [
    "data['education-allowance'].value_counts()\n",
    "\n",
    "data['education-allowance'] = data['education-allowance'].fillna('no')\n",
    "data['education-allowance']= label_encoder.fit_transform(data['education-allowance']) \n"
   ]
  },
  {
   "cell_type": "code",
   "execution_count": 112,
   "metadata": {},
   "outputs": [],
   "source": [
    "data['vacation'].value_counts()\n",
    "\n",
    "data['vacation'] = data['vacation'].fillna('average')\n",
    "\n",
    "data['vacation']= label_encoder.fit_transform(data['vacation']) \n"
   ]
  },
  {
   "cell_type": "code",
   "execution_count": 115,
   "metadata": {},
   "outputs": [],
   "source": [
    "data['longterm-disability-assistance'].value_counts()\n",
    "data['longterm-disability-assistance'] = data['longterm-disability-assistance'].fillna('no')\n",
    "data['longterm-disability-assistance']= label_encoder.fit_transform(data['longterm-disability-assistance']) \n"
   ]
  },
  {
   "cell_type": "code",
   "execution_count": 118,
   "metadata": {},
   "outputs": [],
   "source": [
    "data['bereavement-assistance'].value_counts()\n",
    "data['bereavement-assistance'] = data['bereavement-assistance'].fillna('yes')\n",
    "\n",
    "data['bereavement-assistance']= label_encoder.fit_transform(data['bereavement-assistance']) \n"
   ]
  },
  {
   "cell_type": "code",
   "execution_count": 121,
   "metadata": {},
   "outputs": [],
   "source": [
    "data['contribution-to-health-plan'].value_counts()\n",
    "#mean7 = 20+9+8/3\n",
    "data['contribution-to-health-plan'] = data['contribution-to-health-plan'].fillna('full')\n",
    "data['contribution-to-health-plan']= label_encoder.fit_transform(data['contribution-to-health-plan']) \n"
   ]
  },
  {
   "cell_type": "code",
   "execution_count": 123,
   "metadata": {},
   "outputs": [],
   "source": [
    "data['contribution-to-dental-plan'].value_counts()\n",
    "#mean7 = 20+9+8/3\n",
    "data['contribution-to-dental-plan'] = data['contribution-to-dental-plan'].fillna('full')\n",
    "data['contribution-to-dental-plan']= label_encoder.fit_transform(data['contribution-to-dental-plan']) \n"
   ]
  },
  {
   "cell_type": "code",
   "execution_count": 124,
   "metadata": {},
   "outputs": [
    {
     "data": {
      "text/html": [
       "<div>\n",
       "<style scoped>\n",
       "    .dataframe tbody tr th:only-of-type {\n",
       "        vertical-align: middle;\n",
       "    }\n",
       "\n",
       "    .dataframe tbody tr th {\n",
       "        vertical-align: top;\n",
       "    }\n",
       "\n",
       "    .dataframe thead th {\n",
       "        text-align: right;\n",
       "    }\n",
       "</style>\n",
       "<table border=\"1\" class=\"dataframe\">\n",
       "  <thead>\n",
       "    <tr style=\"text-align: right;\">\n",
       "      <th></th>\n",
       "      <th>duration</th>\n",
       "      <th>wage-increase-first-year</th>\n",
       "      <th>wage-increase-second-year</th>\n",
       "      <th>wage-increase-third-year</th>\n",
       "      <th>cost-of-living-adjustment</th>\n",
       "      <th>working-hours</th>\n",
       "      <th>pension</th>\n",
       "      <th>standby-pay</th>\n",
       "      <th>shift-differential</th>\n",
       "      <th>education-allowance</th>\n",
       "      <th>statutory-holidays</th>\n",
       "      <th>vacation</th>\n",
       "      <th>longterm-disability-assistance</th>\n",
       "      <th>contribution-to-dental-plan</th>\n",
       "      <th>bereavement-assistance</th>\n",
       "      <th>contribution-to-health-plan</th>\n",
       "    </tr>\n",
       "  </thead>\n",
       "  <tbody>\n",
       "    <tr>\n",
       "      <th>count</th>\n",
       "      <td>57.000000</td>\n",
       "      <td>57.000000</td>\n",
       "      <td>57.000000</td>\n",
       "      <td>57.000000</td>\n",
       "      <td>57.000000</td>\n",
       "      <td>57.000000</td>\n",
       "      <td>57.000000</td>\n",
       "      <td>57.000000</td>\n",
       "      <td>57.000000</td>\n",
       "      <td>57.000000</td>\n",
       "      <td>57.000000</td>\n",
       "      <td>57.000000</td>\n",
       "      <td>57.000000</td>\n",
       "      <td>57.000000</td>\n",
       "      <td>57.000000</td>\n",
       "      <td>57.000000</td>\n",
       "    </tr>\n",
       "    <tr>\n",
       "      <th>mean</th>\n",
       "      <td>2.157895</td>\n",
       "      <td>3.807018</td>\n",
       "      <td>3.977193</td>\n",
       "      <td>4.419298</td>\n",
       "      <td>0.403509</td>\n",
       "      <td>38.035088</td>\n",
       "      <td>0.859649</td>\n",
       "      <td>7.912281</td>\n",
       "      <td>4.473684</td>\n",
       "      <td>0.175439</td>\n",
       "      <td>11.087719</td>\n",
       "      <td>0.877193</td>\n",
       "      <td>0.350877</td>\n",
       "      <td>0.578947</td>\n",
       "      <td>0.947368</td>\n",
       "      <td>0.438596</td>\n",
       "    </tr>\n",
       "    <tr>\n",
       "      <th>std</th>\n",
       "      <td>0.701770</td>\n",
       "      <td>1.358552</td>\n",
       "      <td>1.043520</td>\n",
       "      <td>0.719980</td>\n",
       "      <td>0.728493</td>\n",
       "      <td>2.367676</td>\n",
       "      <td>0.515426</td>\n",
       "      <td>1.911251</td>\n",
       "      <td>3.354662</td>\n",
       "      <td>0.383723</td>\n",
       "      <td>1.214212</td>\n",
       "      <td>0.825274</td>\n",
       "      <td>0.481487</td>\n",
       "      <td>0.754685</td>\n",
       "      <td>0.225282</td>\n",
       "      <td>0.732353</td>\n",
       "    </tr>\n",
       "    <tr>\n",
       "      <th>min</th>\n",
       "      <td>1.000000</td>\n",
       "      <td>2.000000</td>\n",
       "      <td>2.000000</td>\n",
       "      <td>2.000000</td>\n",
       "      <td>0.000000</td>\n",
       "      <td>27.000000</td>\n",
       "      <td>0.000000</td>\n",
       "      <td>2.000000</td>\n",
       "      <td>0.000000</td>\n",
       "      <td>0.000000</td>\n",
       "      <td>9.000000</td>\n",
       "      <td>0.000000</td>\n",
       "      <td>0.000000</td>\n",
       "      <td>0.000000</td>\n",
       "      <td>0.000000</td>\n",
       "      <td>0.000000</td>\n",
       "    </tr>\n",
       "    <tr>\n",
       "      <th>25%</th>\n",
       "      <td>2.000000</td>\n",
       "      <td>2.500000</td>\n",
       "      <td>3.500000</td>\n",
       "      <td>4.600000</td>\n",
       "      <td>0.000000</td>\n",
       "      <td>37.000000</td>\n",
       "      <td>1.000000</td>\n",
       "      <td>8.000000</td>\n",
       "      <td>4.000000</td>\n",
       "      <td>0.000000</td>\n",
       "      <td>10.000000</td>\n",
       "      <td>0.000000</td>\n",
       "      <td>0.000000</td>\n",
       "      <td>0.000000</td>\n",
       "      <td>1.000000</td>\n",
       "      <td>0.000000</td>\n",
       "    </tr>\n",
       "    <tr>\n",
       "      <th>50%</th>\n",
       "      <td>2.000000</td>\n",
       "      <td>4.000000</td>\n",
       "      <td>4.000000</td>\n",
       "      <td>4.600000</td>\n",
       "      <td>0.000000</td>\n",
       "      <td>38.000000</td>\n",
       "      <td>1.000000</td>\n",
       "      <td>8.000000</td>\n",
       "      <td>4.000000</td>\n",
       "      <td>0.000000</td>\n",
       "      <td>11.000000</td>\n",
       "      <td>1.000000</td>\n",
       "      <td>0.000000</td>\n",
       "      <td>0.000000</td>\n",
       "      <td>1.000000</td>\n",
       "      <td>0.000000</td>\n",
       "    </tr>\n",
       "    <tr>\n",
       "      <th>75%</th>\n",
       "      <td>3.000000</td>\n",
       "      <td>4.500000</td>\n",
       "      <td>4.500000</td>\n",
       "      <td>4.600000</td>\n",
       "      <td>1.000000</td>\n",
       "      <td>40.000000</td>\n",
       "      <td>1.000000</td>\n",
       "      <td>8.000000</td>\n",
       "      <td>4.000000</td>\n",
       "      <td>0.000000</td>\n",
       "      <td>12.000000</td>\n",
       "      <td>2.000000</td>\n",
       "      <td>1.000000</td>\n",
       "      <td>1.000000</td>\n",
       "      <td>1.000000</td>\n",
       "      <td>1.000000</td>\n",
       "    </tr>\n",
       "    <tr>\n",
       "      <th>max</th>\n",
       "      <td>3.000000</td>\n",
       "      <td>7.000000</td>\n",
       "      <td>7.000000</td>\n",
       "      <td>5.100000</td>\n",
       "      <td>2.000000</td>\n",
       "      <td>40.000000</td>\n",
       "      <td>2.000000</td>\n",
       "      <td>14.000000</td>\n",
       "      <td>25.000000</td>\n",
       "      <td>1.000000</td>\n",
       "      <td>15.000000</td>\n",
       "      <td>2.000000</td>\n",
       "      <td>1.000000</td>\n",
       "      <td>2.000000</td>\n",
       "      <td>1.000000</td>\n",
       "      <td>2.000000</td>\n",
       "    </tr>\n",
       "  </tbody>\n",
       "</table>\n",
       "</div>"
      ],
      "text/plain": [
       "        duration  wage-increase-first-year  wage-increase-second-year  \\\n",
       "count  57.000000                 57.000000                  57.000000   \n",
       "mean    2.157895                  3.807018                   3.977193   \n",
       "std     0.701770                  1.358552                   1.043520   \n",
       "min     1.000000                  2.000000                   2.000000   \n",
       "25%     2.000000                  2.500000                   3.500000   \n",
       "50%     2.000000                  4.000000                   4.000000   \n",
       "75%     3.000000                  4.500000                   4.500000   \n",
       "max     3.000000                  7.000000                   7.000000   \n",
       "\n",
       "       wage-increase-third-year  cost-of-living-adjustment  working-hours  \\\n",
       "count                 57.000000                  57.000000      57.000000   \n",
       "mean                   4.419298                   0.403509      38.035088   \n",
       "std                    0.719980                   0.728493       2.367676   \n",
       "min                    2.000000                   0.000000      27.000000   \n",
       "25%                    4.600000                   0.000000      37.000000   \n",
       "50%                    4.600000                   0.000000      38.000000   \n",
       "75%                    4.600000                   1.000000      40.000000   \n",
       "max                    5.100000                   2.000000      40.000000   \n",
       "\n",
       "         pension  standby-pay  shift-differential  education-allowance  \\\n",
       "count  57.000000    57.000000           57.000000            57.000000   \n",
       "mean    0.859649     7.912281            4.473684             0.175439   \n",
       "std     0.515426     1.911251            3.354662             0.383723   \n",
       "min     0.000000     2.000000            0.000000             0.000000   \n",
       "25%     1.000000     8.000000            4.000000             0.000000   \n",
       "50%     1.000000     8.000000            4.000000             0.000000   \n",
       "75%     1.000000     8.000000            4.000000             0.000000   \n",
       "max     2.000000    14.000000           25.000000             1.000000   \n",
       "\n",
       "       statutory-holidays   vacation  longterm-disability-assistance  \\\n",
       "count           57.000000  57.000000                       57.000000   \n",
       "mean            11.087719   0.877193                        0.350877   \n",
       "std              1.214212   0.825274                        0.481487   \n",
       "min              9.000000   0.000000                        0.000000   \n",
       "25%             10.000000   0.000000                        0.000000   \n",
       "50%             11.000000   1.000000                        0.000000   \n",
       "75%             12.000000   2.000000                        1.000000   \n",
       "max             15.000000   2.000000                        1.000000   \n",
       "\n",
       "       contribution-to-dental-plan  bereavement-assistance  \\\n",
       "count                    57.000000               57.000000   \n",
       "mean                      0.578947                0.947368   \n",
       "std                       0.754685                0.225282   \n",
       "min                       0.000000                0.000000   \n",
       "25%                       0.000000                1.000000   \n",
       "50%                       0.000000                1.000000   \n",
       "75%                       1.000000                1.000000   \n",
       "max                       2.000000                1.000000   \n",
       "\n",
       "       contribution-to-health-plan  \n",
       "count                    57.000000  \n",
       "mean                      0.438596  \n",
       "std                       0.732353  \n",
       "min                       0.000000  \n",
       "25%                       0.000000  \n",
       "50%                       0.000000  \n",
       "75%                       1.000000  \n",
       "max                       2.000000  "
      ]
     },
     "execution_count": 124,
     "metadata": {},
     "output_type": "execute_result"
    }
   ],
   "source": [
    "data.describe()"
   ]
  },
  {
   "cell_type": "code",
   "execution_count": 66,
   "metadata": {},
   "outputs": [
    {
     "data": {
      "text/plain": [
       "good    37\n",
       "bad     20\n",
       "Name: class, dtype: int64"
      ]
     },
     "execution_count": 66,
     "metadata": {},
     "output_type": "execute_result"
    }
   ],
   "source": [
    "data['class'].value_counts()"
   ]
  },
  {
   "cell_type": "code",
   "execution_count": null,
   "metadata": {},
   "outputs": [],
   "source": []
  },
  {
   "cell_type": "code",
   "execution_count": 125,
   "metadata": {},
   "outputs": [],
   "source": [
    "import numpy as np\n",
    "from sklearn.metrics import accuracy_score, confusion_matrix\n",
    "from sklearn.model_selection import KFold, train_test_split, cross_val_score, cross_val_predict\n",
    "from sklearn.tree import DecisionTreeClassifier\n",
    "from sklearn.svm import SVC\n",
    "\n",
    "from sklearn.model_selection import cross_val_score"
   ]
  },
  {
   "cell_type": "markdown",
   "metadata": {},
   "source": [
    "Model Decision Tree"
   ]
  },
  {
   "cell_type": "code",
   "execution_count": 126,
   "metadata": {},
   "outputs": [
    {
     "name": "stdout",
     "output_type": "stream",
     "text": [
      "[ 0.83333333  0.83333333  0.81818182  0.81818182  0.90909091]\n",
      "Accuracy of Model with Cross Validation is: 84.2424242424\n"
     ]
    }
   ],
   "source": [
    "X  = data.drop(['class'], axis =1)\n",
    "y= data['class']\n",
    "model = DecisionTreeClassifier(random_state=0)\n",
    "#digunakan nilai K = 10\n",
    "accuracy = cross_val_score(model, X, y, scoring='accuracy', cv = 5)\n",
    "print(accuracy)\n",
    "\n",
    "#Mencari nilai rata-rata akurasi K-Fold\n",
    "print(\"Accuracy of Model with Cross Validation is:\",accuracy.mean() * 100)"
   ]
  },
  {
   "cell_type": "code",
   "execution_count": 137,
   "metadata": {},
   "outputs": [
    {
     "name": "stdout",
     "output_type": "stream",
     "text": [
      "prec, recall, fscore :  (0.84210526315789469, 0.84210526315789469, 0.84210526315789469, None)\n"
     ]
    }
   ],
   "source": [
    "from sklearn.model_selection import train_test_split\n",
    "X_train, X_test, y_train, y_test = train_test_split(X, y, test_size=0.33, random_state= 2019)\n",
    "model.fit(X_train, y_train)\n",
    "y_pred = ensemble.predict(X_test)\n",
    "from sklearn.metrics import precision_recall_fscore_support \n",
    "print('prec, recall, fscore : ', precision_recall_fscore_support(y_test, y_pred, average = 'micro'))"
   ]
  },
  {
   "cell_type": "markdown",
   "metadata": {},
   "source": [
    "Model SVM"
   ]
  },
  {
   "cell_type": "code",
   "execution_count": 127,
   "metadata": {},
   "outputs": [
    {
     "name": "stdout",
     "output_type": "stream",
     "text": [
      "CROSS VALIDATION ACCURACY : 0.896666666667\n"
     ]
    }
   ],
   "source": [
    "svc = SVC(kernel='rbf',gamma=0.1, C=1.0)\n",
    "kfold = KFold(n_splits=10)\n",
    "scores = cross_val_score(svc, X, y, cv=kfold, scoring='accuracy')\n",
    "print(\"CROSS VALIDATION ACCURACY :\", np.mean(scores))"
   ]
  },
  {
   "cell_type": "code",
   "execution_count": 138,
   "metadata": {},
   "outputs": [
    {
     "name": "stdout",
     "output_type": "stream",
     "text": [
      "prec, recall, fscore :  (0.84210526315789469, 0.84210526315789469, 0.84210526315789469, None)\n"
     ]
    }
   ],
   "source": [
    "from sklearn.model_selection import train_test_split\n",
    "X_train, X_test, y_train, y_test = train_test_split(X, y, test_size=0.33, random_state= 2019)\n",
    "svc.fit(X_train, y_train)\n",
    "y_pred = ensemble.predict(X_test)\n",
    "from sklearn.metrics import precision_recall_fscore_support \n",
    "print('prec, recall, fscore : ', precision_recall_fscore_support(y_test, y_pred, average = 'micro'))"
   ]
  },
  {
   "cell_type": "markdown",
   "metadata": {},
   "source": [
    "Model Naive Bayes"
   ]
  },
  {
   "cell_type": "code",
   "execution_count": 139,
   "metadata": {},
   "outputs": [
    {
     "name": "stdout",
     "output_type": "stream",
     "text": [
      "prec, recall, fscore :  (0.84210526315789469, 0.84210526315789469, 0.84210526315789469, None)\n"
     ]
    }
   ],
   "source": [
    "from sklearn.naive_bayes import GaussianNB\n",
    "naive = GaussianNB()\n",
    "naive.fit(X, y)\n",
    "\n",
    "from sklearn.model_selection import train_test_split\n",
    "X_train, X_test, y_train, y_test = train_test_split(X, y, test_size=0.33, random_state= 2019)\n",
    "naive.fit(X_train, y_train)\n",
    "y_pred = ensemble.predict(X_test)\n",
    "from sklearn.metrics import precision_recall_fscore_support \n",
    "print('prec, recall, fscore : ', precision_recall_fscore_support(y_test, y_pred, average = 'micro'))"
   ]
  },
  {
   "cell_type": "markdown",
   "metadata": {},
   "source": [
    "2b) k = 5 dengan random forest, adaboost dan gradient boosting"
   ]
  },
  {
   "cell_type": "code",
   "execution_count": 128,
   "metadata": {},
   "outputs": [],
   "source": [
    "from sklearn import model_selection\n",
    "from sklearn.metrics import confusion_matrix\n",
    "from sklearn.ensemble import RandomForestClassifier\n",
    "from sklearn.ensemble import AdaBoostClassifier\n",
    "from sklearn.ensemble import GradientBoostingClassifier\n",
    "from sklearn.ensemble import VotingClassifier"
   ]
  },
  {
   "cell_type": "code",
   "execution_count": 131,
   "metadata": {},
   "outputs": [
    {
     "name": "stdout",
     "output_type": "stream",
     "text": [
      "0.824242424242\n"
     ]
    }
   ],
   "source": [
    "seed = 2019\n",
    "kfold = model_selection.KFold(n_splits=5, random_state=seed) # create the sub models\n",
    "estimators = []\n",
    "model1 = RandomForestClassifier()\n",
    "estimators.append(('cart', model1))\n",
    "model2 = AdaBoostClassifier()\n",
    "estimators.append(('Ada', model2))\n",
    "model3 = GradientBoostingClassifier()\n",
    "estimators.append(('GB', model3))\n",
    "ensemble = VotingClassifier(estimators)\n",
    "results = model_selection.cross_val_score(ensemble, X, y, cv=kfold)\n",
    "print(results.mean())"
   ]
  },
  {
   "cell_type": "code",
   "execution_count": 134,
   "metadata": {},
   "outputs": [],
   "source": [
    "from sklearn.model_selection import train_test_split\n",
    "X_train, X_test, y_train, y_test = train_test_split(X, y, test_size=0.33, random_state= 2019)\n",
    "ensemble.fit(X_train, y_train)\n",
    "y_pred = ensemble.predict(X_test)"
   ]
  },
  {
   "cell_type": "code",
   "execution_count": 136,
   "metadata": {},
   "outputs": [
    {
     "name": "stdout",
     "output_type": "stream",
     "text": [
      "prec, recall, fscore :  (0.84210526315789469, 0.84210526315789469, 0.84210526315789469, None)\n"
     ]
    }
   ],
   "source": [
    "from sklearn.metrics import precision_recall_fscore_support \n",
    "print('prec, recall, fscore : ', precision_recall_fscore_support(y_test, y_pred, average = 'micro'))"
   ]
  },
  {
   "cell_type": "code",
   "execution_count": null,
   "metadata": {},
   "outputs": [],
   "source": []
  }
 ],
 "metadata": {
  "kernelspec": {
   "display_name": "Python 3",
   "language": "python",
   "name": "python3"
  },
  "language_info": {
   "codemirror_mode": {
    "name": "ipython",
    "version": 3
   },
   "file_extension": ".py",
   "mimetype": "text/x-python",
   "name": "python",
   "nbconvert_exporter": "python",
   "pygments_lexer": "ipython3",
   "version": "3.6.4"
  }
 },
 "nbformat": 4,
 "nbformat_minor": 2
}
